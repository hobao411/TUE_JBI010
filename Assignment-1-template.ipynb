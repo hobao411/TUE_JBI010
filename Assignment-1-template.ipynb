{
 "cells": [
  {
   "cell_type": "code",
   "execution_count": null,
   "metadata": {},
   "outputs": [],
   "source": [
    "import time\n",
    "start_time = time.time()"
   ]
  },
  {
   "cell_type": "markdown",
   "metadata": {},
   "source": [
    "# JBI010 - Assignment Week 1 (2021-2022)\n",
    "\n",
    "### Logical Thinking\n",
    "\n",
    "This Jupyter notebook aims to get you started with logical thinking. We will learn how to analyse a computational problem. That is, we will learn how to identify the main elements (e.g. inputs, output, instructions) of the problem in order to create a program that offers a concrete solution."
   ]
  },
  {
   "cell_type": "markdown",
   "metadata": {},
   "source": [
    "## Table of Contents\n",
    "<div class=\"toc\" style=\"margin-top: 1em;\">\n",
    "    <ul class=\"toc-item\">\n",
    "        <li>\n",
    "            <span><a href=\"#Introduction-to-this-template-notebook\" data-toc-modified-id=\"Introduction-to-this-template-notebook\">Introduction to this template notebook</a></span>\n",
    "        </li>\n",
    "        <li>\n",
    "            <span><a href=\"#The-Library-of-Babel\" data-toc-modified-id=\"The-Library-of-Babel\">The Library of Babel</a></span>\n",
    "        </li>\n",
    "        <li>\n",
    "            <span><a href=\"#Entering-the-Imaginarium\" data-toc-modified-id=\"Entering-the-Imaginarium\">Entering the Imaginarium</a></span>\n",
    "        </li>\n",
    "        <li>\n",
    "            <span><a href=\"#Task-0:-Bookshelves-in-a-Hexagon\" data-toc-modified-id=\"Task-0:-Bookshelves-in-a-Hexagon\">Task 0: Bookshelves in a Hexagon</a></span>\n",
    "        </li>\n",
    "        <li>\n",
    "            <span><a href=\"#Task-1:-Books-per-Hexagon\" data-toc-modified-id=\"Task-1:-Books-per-Hexagon\">Task 1: Books per Hexagon</a></span>\n",
    "        </li>\n",
    "        <li>\n",
    "            <span><a href=\"#Task-2:-Letters-per-Book\" data-toc-modified-id=\"Task-2:-Letters-per-Book\">Task 2: Letters per Book</a></span>\n",
    "        </li>\n",
    "        <li>\n",
    "            <span><a href=\"#Task-3:-All-Possible-Books\" data-toc-modified-id=\"Task-3:-All-Possible-Books\">Task 3: All Possible Books</a></span>\n",
    "        </li>\n",
    "        <li>\n",
    "            <span><a href=\"#Task-4:-Required-Hexagons\" data-toc-modified-id=\"Task-4:-Required-Hexagons\">Task 4: Required Hexagons</a></span>\n",
    "        </li>\n",
    "        <li>\n",
    "            <span><a href=\"#Task-5:-Incomprehensible-Language\" data-toc-modified-id=\"Task-5:-Incomprehensible-Language\">Task 5: Incomprehensible Language</a></span>\n",
    "        </li>\n",
    "        <li>\n",
    "            <span><a href=\"#Final-Thoughts\" data-toc-modified-id=\"Final-Thoughts\">Final Thoughts</a></span>\n",
    "        </li>\n",
    "    </ul>\n",
    "</div>"
   ]
  },
  {
   "cell_type": "markdown",
   "metadata": {},
   "source": [
    "\n",
    "# Introduction to this template notebook\n",
    "\n",
    "* This is a **personal** notebook. \n",
    "* Make sure you work in a **copy** of `...-template.ipynb`,\n",
    "    **renamed** to `...-yourIDnr.ipynb`,\n",
    "    where `yourIDnr` is your TU/e identification number.  \n",
    "* In case of two authors, include both id. numbers:\n",
    "    `...-firstIDnr-secondIDnr.ipynb`.\n",
    "\n",
    "<div class=\"alert alert-danger\" role=\"danger\">\n",
    "<h3>Integrity</h3>\n",
    "<ul>\n",
    "    <li>In this course you must act according to the rules of the TU/e code of scientific conduct.</li>\n",
    "    <li>All the exercises and the graded assignments are to be done within your programming homework group.</li>\n",
    "    <li>You must not copy from the Internet, your friends, books... If you represent other people's work as your own, then that constitutes fraud and will be reported to the Examination Committee.</li>\n",
    "    <li>Making your work available to others (complicity) also constitutes fraud.</li>\n",
    "</ul>\n",
    "</div>\n",
    "\n",
    "You are expected to work with Python 3 code in this notebook.\n",
    "\n",
    "The locations where you should write your solutions can be recognized by\n",
    "**marker lines**,\n",
    "which look like this:\n",
    "\n",
    ">`#//`\n",
    ">    `BEGIN_TODO [Label]` `Description` `(n points)`\n",
    ">\n",
    ">`#//`\n",
    ">    `END_TODO [Label]`\n",
    "\n",
    "<div class=\"alert alert-warning\" role=\"alert\">Do NOT modify or delete these marker lines.  Keep them as they are.<br/>\n",
    "<br/>\n",
    "NEVER write code that is needed for grading <i>outside</i> the marked blocks.\n",
    "It is invisible there.\n",
    "</div>\n",
    "\n",
    "Proceed in this notebook as follows:\n",
    "* **Personalize** the notebook (see below)\n",
    "* **Read** the text.\n",
    "* **Fill in** your solutions between `BEGIN_TODO` and `END_TODO` marker lines.\n",
    "* **Run** _all_ code cells (also the ones _without_ your code),\n",
    "    _in linear order_ from the first code cell.\n",
    "\n",
    "**Personalize your notebook**:\n",
    "1. Copy the following lines of code (`AUTHOR2_...` only when applicable):\n",
    "\n",
    "  ```python\n",
    "  AUTHOR_NAME = 'Your Full Name'\n",
    "  AUTHOR_ID_NR = '1234567'\n",
    "  AUTHOR_DATE = 'YYYY-MM-DD'  # when first modified, e.g. '2019-02-26'\n",
    "\n",
    "  AUTHOR2_NAME = 'Not Applicable'\n",
    "  AUTHOR2_ID_NR = 'Not Applicable'\n",
    "  ```\n",
    "\n",
    "1. Paste them between the marker lines in the next code cell.\n",
    "1. Fill in your _full name_, _identification number_, and the current _date_ as strings between quotes.\n",
    "1. When applicable, also copy and fill in the name and id.nr. for the second author.\n",
    "1. Run the code cell by putting the cursor there and typing **Control-Enter**.\n"
   ]
  },
  {
   "cell_type": "code",
   "execution_count": null,
   "metadata": {},
   "outputs": [],
   "source": [
    "#// BEGIN_TODO [Author] Name, Id.nr., Date, as strings (1 point)\n",
    "\n",
    "# ===== =====> Replace this line by your code. <===== ===== #\n",
    "\n",
    "#// END_TODO [Author]\n",
    "\n",
    "AUTHOR_NAME, AUTHOR_ID_NR, AUTHOR_DATE"
   ]
  },
  {
   "cell_type": "markdown",
   "metadata": {},
   "source": [
    "## The Library of Babel\n",
    "\n",
    "> The universe (which others call the Library) is composed of an indefinite, perhaps infinite number of hexagonal galleries. In the center of each gallery is a ventilation shaft, bounded by a low railing. From any hexagon one can see the floors above and below-one after another, endlessly. \n",
    "\n",
    "This is the beginning of the short story \"The Library of Babel\" (\"La Biblioteca de Babel\" in Spanish) written by Jorge Luis Borges in 1941. Borges was an outstanding Argentinian writer who wrote about time, space, destiny, and reality. \"The Library of Babel\" is one of his most famous short stories. In this story, Borges presents an idea of a universe represented as a library that contains all possible books, written in all possible languages build atop 25 symbols that include: 22 lower-case letters of the alphabet, the comma, the period, and the space. We encourage you to read the whole story (you can find the PDF version [here](https://sites.evergreen.edu/politicalshakespeares/wp-content/uploads/sites/226/2015/12/Borges-The-Library-of-Babel.pdf)). It is not needed for this assignment but it might give you a different perspective about life. Give it a try! And if you still want to explore more, we invite you to visit the [virtual library](https://libraryofbabel.info/) created by Jonathan Basile.\n",
    "\n",
    "<img src=\"assets/library-babel.jpeg\" alt=\"The Library of Babel\" width=\"450\"/>\n",
    "<br>\n",
    "<div style=\"text-align:center\">\n",
    "    <span style=\"font-size:0.9em; font-weight: bold;\">Fig. 1. Illustration of \"The Library of Babel\" by Rice + Lipka architects. The design was created <br>by Lyn Rice and Astrid Lipka in association with Benjamin Cadena in 2013. Find the source <a href=\"https://ricelipka.com/work_detail.php?c=7&id=65\">here</a>.</span>\n",
    "</div>\n"
   ]
  },
  {
   "cell_type": "markdown",
   "metadata": {},
   "source": [
    "## Entering the Imaginarium\n",
    "\n",
    "A group of researchers has been studying Borges' stories. Currently, they are analysing \"The Library of Babel\". To begin with, they would like to compute some measures related to the hexagons described in the story. To do so, they are inspecting the following text:\n",
    "\n",
    ">  Twenty bookshelves, five to each side, line four of the hexagon's six sides [...]\n",
    "\n",
    "And to find more information about a hexagon dimension they also analyse the following passage:\n",
    "\n",
    "> Each wall of each hexagon is furnished with five bookshelves; each bookshelf holds thirty-two books identical in format; each book contains four hundred ten pages; each page, forty lines; each line, approximately eighty black letters. There are also letters on the front cover of each book; those letters neither indicate nor prefigure what the pages inside will say. I am aware that that lack of correspondence once struck men as mysterious.\n",
    "\n",
    "In concrete, the researchers would like to know the number of books and bookshelves in a hexagon. This problem requires you to compute different measures. To address it, we suggest you break the problem into small pieces and understand the purpose of each piece. We will show you an example of how to do it in Task 0. "
   ]
  },
  {
   "cell_type": "markdown",
   "metadata": {},
   "source": [
    "## Task 0: Bookshelves in a Hexagon\n",
    "\n",
    "First of all, the researchers would like to know the number of bookshelves that one of the hexagons has. They also want us to store the result in a variable called `bookshelves`. This is relevant because they would like to have an idea of the space dedicated for the books in each hexagon. \n",
    "\n",
    "<img src=\"assets/hexagon.gif\" alt=\"The Library of Babel\" width=\"250\"/>\n",
    "\n",
    "<div style=\"text-align:center\">\n",
    "    <span style=\"font-size:0.9em; font-weight: bold;\">Fig. 2. Illustration of one of the hexagons in \"The Library of Babel\". The design was created for <br> Jonathan Basile's project. Find the source <a href=\"https://libraryofbabel.info\">here</a>.</span>\n",
    "</div>\n",
    "\n",
    "To solve this first part of the problem we need to define:\n",
    "\n",
    "1. the **problem** or **question** to be answered;\n",
    "2. the **inputs** of your solution (the data you require to compute the solution);\n",
    "3. the **output** of your solution (what you expected data of your solution), and; \n",
    "4. the **algorithm** (or steps) that you will follow to come up with an answer.\n",
    "\n",
    "One possible answer to this problem is shown below."
   ]
  },
  {
   "cell_type": "markdown",
   "metadata": {},
   "source": [
    "- **Question:** How many bookshelves does a hexagon have in the Library of Babel?\n",
    "- **Inputs:** Number of bookshelves per wall, number of walls per hexagon\n",
    "- **Output:** Number of bookshelves per hexagon\n",
    "- **Algorithm:** Multiply the number of bookshelves per wall with the number of walls per hexagon."
   ]
  },
  {
   "cell_type": "markdown",
   "metadata": {},
   "source": [
    "Now that we have a clear picture of the problem and how to solve it, we will use our knowledge of programming to compute the solution."
   ]
  },
  {
   "cell_type": "code",
   "execution_count": null,
   "metadata": {},
   "outputs": [],
   "source": [
    "# 1) We declare our inputs as variables (you will see in the future \n",
    "# that they can also be treated like constants)\n",
    "bookshelves_per_wall = 5\n",
    "walls_per_hexagon = 4\n",
    "\n",
    "# 2) Then, we implement our algorithm and we store the result \n",
    "# in the variable bookshelves (so we do not lose the result!)\n",
    "bookshelves = bookshelves_per_wall * walls_per_hexagon\n",
    "\n",
    "# 3) Now, we will print the result so we can communicate the \n",
    "# output of our algorithm\n",
    "print(bookshelves)"
   ]
  },
  {
   "cell_type": "markdown",
   "metadata": {},
   "source": [
    "We did it! We solve the first piece of the problem. Can you help us with the next tasks?"
   ]
  },
  {
   "cell_type": "markdown",
   "metadata": {},
   "source": [
    "## Task 1: Books per Hexagon\n",
    "\n",
    "Now, the researchers would like to know the number of books placed in one hexagon within the Library. They want us to store the result in a variable called `books`. As we did in Task 0, you will need to define:\n",
    "\n",
    "1. the **problem** or **question** to be answered;\n",
    "2. the **inputs** of your solution;\n",
    "3. the **output** of your solution, and; \n",
    "4. the **algorithm** to come up with an answer.\n",
    "\n",
    "Give your answer in the following cell. Double click on the cell to edit it. This type of cell uses the Markdown language to format the text. If you want to know a bit more about Markdown check [here](https://www.markdownguide.org/basic-syntax/)."
   ]
  },
  {
   "cell_type": "markdown",
   "metadata": {},
   "source": [
    "`#// BEGIN_TODO [1.a_books_hexagon] Books per hexagon`   \n",
    "\n",
    "<div class='alert alert-warning' role='alert'>Replace this line by your text.</div>\n",
    "\n",
    "`#// END_TODO [1.a_books_hexagon]`"
   ]
  },
  {
   "cell_type": "markdown",
   "metadata": {},
   "source": [
    "Now that you have a plan, use Python to implement the solution. Do not forget to store your result in the `books` variable. Enter your code in the following cell."
   ]
  },
  {
   "cell_type": "code",
   "execution_count": null,
   "metadata": {},
   "outputs": [],
   "source": [
    "#// BEGIN_TODO [1.b_books_hexagon] Books per hexagon\n",
    "\n",
    "# ===== =====> Replace this line by your code. <===== ===== #\n",
    "\n",
    "#// END_TODO [1.b_books_hexagon]"
   ]
  },
  {
   "cell_type": "markdown",
   "metadata": {},
   "source": [
    "## Task 2: Letters per Book\n",
    "\n",
    "So far, the researchers know how many bookshelves and books are in a hexagon. But now, one of them has posed a new question: how many books can the Library have? All the other researchers are fascinated with this problem, but they realized that to get an answer they need to know first how many letters are contained in a book. You are kindly requested to store the result of this question in a variable called `letters`. You also need to define:\n",
    "\n",
    "1. the **problem** or **question** to be answered;\n",
    "2. the **inputs** of your solution;\n",
    "3. the **output** of your solution, and; \n",
    "4. the **algorithm** to come up with an answer.\n",
    "\n",
    "Give your answer in the following cell. "
   ]
  },
  {
   "cell_type": "markdown",
   "metadata": {},
   "source": [
    "`#// BEGIN_TODO [2.a_letters_book] Letters per book`   \n",
    "\n",
    "<div class='alert alert-warning' role='alert'>Replace this line by your text.</div>\n",
    "\n",
    "`#// END_TODO [2.a_letters_book]`"
   ]
  },
  {
   "cell_type": "markdown",
   "metadata": {},
   "source": [
    "Now that you have a plan, use Python to give an answer. Do not forget to store your result in the `letters` variable. Enter your code in the following cell."
   ]
  },
  {
   "cell_type": "code",
   "execution_count": null,
   "metadata": {},
   "outputs": [],
   "source": [
    "#// BEGIN_TODO [2.b_letters_book] Letters per book\n",
    "\n",
    "# ===== =====> Replace this line by your code. <===== ===== #\n",
    "\n",
    "#// END_TODO [2.b_letters_book]"
   ]
  },
  {
   "cell_type": "markdown",
   "metadata": {},
   "source": [
    "## Task 3: All Possible Books\n",
    "\n",
    "Well done! You have done great so far. Now let us go back to the researchers' question: how many books can the Library have? We already gave you a hint: to answer this question you need to know the number of letters per book. Seems that you will need to compute a permutation to solve this problem. Investigate a bit and you will be able to come with an answer! And keep in mind something else, even though some books seem to make no sense, the author has made a point:\n",
    "\n",
    "> There is no combination of characters one can make—dhcmrlchtdj, for example—that the divine Library has not foreseen and that in one or more of its secret tongues does not hide a terrible significance. There is no syllable one can speak that is not filled with tenderness and terror, that is not, in one of those languages, the mighty name of a god. \n",
    "\n",
    "As in previous exercises, you should define:\n",
    "\n",
    "1. the **problem** or **question** to be answered;\n",
    "2. the **inputs** of your solution;\n",
    "3. the **output** of your solution, and; \n",
    "4. the **algorithm** to come up with an answer.\n",
    "\n",
    "Give your answer in the following cell. \n",
    "\n",
    "**Notes:** \n",
    "1. Use the result of the previous exercises. To do so, use the variable `letters` in your plan and program.\n",
    "2. Reuse the `letters` variable and do not declare it again.\n",
    "3. Do not worry if the computation takes long. For the dimensions of the Library of Babel this is expected."
   ]
  },
  {
   "cell_type": "markdown",
   "metadata": {},
   "source": [
    "`#// BEGIN_TODO [3.a_all_books] All possible books`   \n",
    "\n",
    "<div class='alert alert-warning' role='alert'>Replace this line by your text.</div>\n",
    "\n",
    "`#// END_TODO [3.a_all_books]`"
   ]
  },
  {
   "cell_type": "markdown",
   "metadata": {},
   "source": [
    "Use Python to compute your solution. Store your result in the `all_books` variable. Enter your code in the following cell."
   ]
  },
  {
   "cell_type": "code",
   "execution_count": null,
   "metadata": {},
   "outputs": [],
   "source": [
    "#// BEGIN_TODO [3.b_all_books] All possible books\n",
    "\n",
    "# ===== =====> Replace this line by your code. <===== ===== #\n",
    "\n",
    "#// END_TODO [3.b_all_books]"
   ]
  },
  {
   "cell_type": "markdown",
   "metadata": {},
   "source": [
    "## Task 4: Required Hexagons\n",
    "\n",
    "After computing all the possible books that can be stored in the Library of Babel, one of the researchers working on architectural urban design, raised a new inquiry: if the Library has that number of books, how many hexagons are needed to host them all? Define:\n",
    "\n",
    "1. the **problem** or **question** to be answered;\n",
    "2. the **inputs** of your solution;\n",
    "3. the **output** of your solution, and; \n",
    "4. the **algorithm** to come up with an answer.\n",
    "\n",
    "Give your answer in the following cell. "
   ]
  },
  {
   "cell_type": "markdown",
   "metadata": {},
   "source": [
    "`#// BEGIN_TODO [4.a_required_hexagons] Required hexagons`   \n",
    "\n",
    "<div class='alert alert-warning' role='alert'>Replace this line by your text.</div>\n",
    "\n",
    "`#// END_TODO [4.a_required_hexagons]`"
   ]
  },
  {
   "cell_type": "markdown",
   "metadata": {},
   "source": [
    "Use Python to compute your solution. Store your result in the `hexagons` variable. Enter your code in the following cell.\n",
    "\n",
    "**Notes:** \n",
    "- You might notice that your solution outputs an `OverflowError`. This happens because after performing the division, Python will try to return a floating-point number (float). However, floats cannot be arbitrarily large—that is, if the size of the float exceeds the limit, an `OverflowError` will be raised. And well, you know how big the Library of Babel can be.\n",
    "- To deal with the previous error, you are requested to use the floor division operator (i.e. `//`). This is a workaround to deal with integer values, which happen to be unbounded.\n",
    "- Check if the previous division has a remainder. If so, you will need to add one to the result; zero otherwise."
   ]
  },
  {
   "cell_type": "code",
   "execution_count": null,
   "metadata": {},
   "outputs": [],
   "source": [
    "#// BEGIN_TODO [4.b_required_hexagons] Required hexagons\n",
    "\n",
    "# ===== =====> Replace this line by your code. <===== ===== #\n",
    "\n",
    "#// END_TODO [4.b_required_hexagons]"
   ]
  },
  {
   "cell_type": "markdown",
   "metadata": {},
   "source": [
    "## Task 5: Incomprehensible Language\n",
    "\n",
    "So far, the researchers are satisfied with the study. However, one of them finds the following passage in the story:\n",
    "\n",
    "> It is true that the most ancient peoples, the first librarians, employed a language quite different from the one we speak today; it is true that a few miles to the right, our language devolves into dialect and that ninety floors above, it becomes incomprehensible.\n",
    "\n",
    "Now, they would like to know how many books can be understood by a given language before they become incomprehensible. Imagine just one column of hexagons and assume that each hexagon represents one floor. Define:\n",
    "\n",
    "1. the **problem** or **question** to be answered;\n",
    "2. the **inputs** of your solution;\n",
    "3. the **output** of your solution, and; \n",
    "4. the **algorithm** to come up with an answer.\n",
    "\n",
    "Give your answer in the following cell.\n",
    "\n",
    "**Note:** Do you remember the output of Task 1? You are kindly requested to leverage this output and use the variable `books` to solve this problem."
   ]
  },
  {
   "cell_type": "markdown",
   "metadata": {},
   "source": [
    "`#// BEGIN_TODO [5.a_incomprehensible_lang] Incomprehensible language`   \n",
    "\n",
    "<div class='alert alert-warning' role='alert'>Replace this line by your text.</div>\n",
    "\n",
    "`#// END_TODO [5.a_incomprehensible_lang]`"
   ]
  },
  {
   "cell_type": "code",
   "execution_count": null,
   "metadata": {},
   "outputs": [],
   "source": [
    "#// BEGIN_TODO [5.b_incomprehensible_lang] Incomprehensible language\n",
    "\n",
    "# ===== =====> Replace this line by your code. <===== ===== #\n",
    "\n",
    "#// END_TODO [5.b_incomprehensible_lang]"
   ]
  },
  {
   "cell_type": "markdown",
   "metadata": {},
   "source": [
    "## Final Thoughts\n",
    "\n",
    "You did a great job! You have done your first assignment. You have also helped in the understanding and analysis of one of the most beautiful and intriguing pieces of literature of the $XX^{th}$ century. From now on, every time you need to solve a problem, follow the analysis steps that we practised; you should always identify the problem or question you need to solve, the inputs, the output, and the algorithm to implement your solution. Take your time to do this, it will save you time and effort!\n",
    "\n",
    "Now let us end with two passages of the book worth mentioning:\n",
    "\n",
    "> This philosopher observed that all books, however different from one another they might be, consist of identical elements: the space, the period, the comma, and the twenty-two letters of the alphabet. He also posited a fact which all travelers have since confirmed: In all the Library, there are no two identical books. \n",
    "\n",
    "> [...] each book is unique and irreplaceable, but (since the Library is total) there are always several hundred thousand imperfect facsimiles-books that differ by no more than a single letter, or a comma.\n",
    "\n",
    "Fortunately (or unfortunately) computers are not able to find the meaning of these quotes. But you, as a human being, can. Think about it and draw your own conclusions. There are no wrong or right answers. So then, *what does it mean to you?*\n",
    "\n",
    "<br>\n",
    "<img src=\"assets/bookshelf.gif\" alt=\"The Bookshelf\" width=\"250\"/>\n",
    "<br>\n",
    "<div style=\"text-align:center\">\n",
    "    <span style=\"font-size:0.9em; font-weight: bold;\">Fig. 3. Illustration of one of the bookshelves of an hexagon within \"The Library of Babel\". <br>The design was created for Jonathan Basile's project. Find the source <a href=\"https://libraryofbabel.info\">here</a>.</span>\n",
    "</div>"
   ]
  },
  {
   "cell_type": "markdown",
   "metadata": {},
   "source": [
    "---\n",
    "\n",
    "## (End of Notebook)\n",
    "\n",
    "&copy; 2021 - **TU/e** - Eindhoven University of Technology"
   ]
  },
  {
   "cell_type": "code",
   "execution_count": null,
   "metadata": {},
   "outputs": [],
   "source": [
    "end_time = time.time()\n",
    "\n",
    "print(f'{end_time - start_time} seconds')"
   ]
  }
 ],
 "metadata": {
  "kernelspec": {
   "display_name": "Python 3",
   "language": "python",
   "name": "python3"
  },
  "language_info": {
   "codemirror_mode": {
    "name": "ipython",
    "version": 3
   },
   "file_extension": ".py",
   "mimetype": "text/x-python",
   "name": "python",
   "nbconvert_exporter": "python",
   "pygments_lexer": "ipython3",
   "version": "3.8.8"
  }
 },
 "nbformat": 4,
 "nbformat_minor": 4
}
